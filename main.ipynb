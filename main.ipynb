{
 "cells": [
  {
   "cell_type": "markdown",
   "metadata": {},
   "source": [
    "# Laboratorio 7\n",
    "\n",
    "integrantes: \n",
    "\n",
    "- Francis Aguilar #22243\n",
    "\n",
    "- Gerardo Pineda #22808\n",
    "\n",
    "- Angela Garcia #22869\n",
    "\n",
    "enlace al repositorio: https://github.com/angelargd8/LAB7-IA   \n",
    "Video: https://youtu.be/5E8sHykuvpE  \n"
   ]
  },
  {
   "cell_type": "markdown",
   "metadata": {},
   "source": [
    "# Task 1 - Teoría\n",
    "\n",
    "1. ¿Qué es el temporal difference learning y en qué se diferencia de los métodos tradicionales de aprendizaje \n",
    "supervisado? Explique el concepto de \"error de diferencia temporal\" y su papel en los algoritmos de \n",
    "aprendizaje por refuerzo \n",
    "\n",
    "    El temporal difference learning es un método que combina las ideas del aprendizaje dinámico y del aprendizaje supervisado.\n",
    "    Este tipo de aprendizaje esta basado en aprender a estimar valores futuros miestras va interactuando con un entorno, en vez de\n",
    "    esperar hasta el final de una secuencia para ajustar las predicciones. Lo que hace es actualizar gradualmente las estimaciones en \n",
    "    función de las diferencias entre predicciones consecutivas. Entonces, las diferencias se usan para ajustar el modelo en tiempo real.\n",
    "    Acerca del concepto de error de diferencia temporal, esta en los algoritmos de aprendizaje por refuerzo, porque lo que mide es la discrepancia entre la recompensa esperada y la obtenida. \n",
    "\n",
    "\n",
    "2. En el contexto de los juegos simultáneos, ¿cómo toman decisiones los jugadores sin conocer las acciones \n",
    "de sus oponentes? De un ejemplo de un escenario del mundo real que pueda modelarse como un juego \n",
    "simultáneo y discuta las estrategias que los jugadores podrían emplear en tal situación \n",
    "\n",
    "    En los juegos simultáneos un jugador al no conocer las acciones del oponente, busca estrategias considerando las posibles acciones del oponente, \n",
    "    pensando en obtener la mejor recompensa posible y muchas veces se toma en cuenta que al realizar una accion no dar pistas al oponente.\n",
    "    Los jugadores también pueden tomar decisiones en función de la información disponible, como por ejemplo, el estado del juego, \n",
    "    pero también pueden tomar decisiones basadas en su conocimiento del entorno y de la estrategia de sus oponentes.\n",
    "    Un ejemplo del mundo real es el juego de werewolf en el que los jugadores no saben el rol de los demás jugadores, y deben tomar decisiones\n",
    "    a base sin saber si son humanos o lobos, entonces tratan de tomar acciones que no demuestren que rol tienen y simular que todos son humanos, \n",
    "    las acciones en este caso son en las votaciones, porque al decir que alguien es el lobo tiene que tener sentido, ya que al no tenerlo lo pueden \n",
    "    juzgar que es el lobo y terminar muerto dentro del juego. Mientras que los lobos, deben de ser cautelosos al matar a alguien, ya que si se descubren los acusaran de ser el lobo y terminarán muertos.\n",
    "\n",
    "\n",
    "3. ¿Qué distingue los juegos de suma cero de los juegos de suma no cero y cómo afecta esta diferencia al \n",
    "proceso de toma de decisiones de los jugadores? Proporcione al menos un ejemplo de juegos que entren \n",
    "en la categoría de juegos de no suma cero y discuta las consideraciones estratégicas únicas involucradas \n",
    "\n",
    "    Lo que distingue a los juegos de suma cero de los juegos de suma de cero son en que los juegos de suma cero los \n",
    "    jugadores suelen actuar de una manera más competitiva porque no hay beneficios que se puedan compartir.\n",
    "    Mientras, en los juegos de suma no cero los jugadores pueden buscar estrategias colaborativas porque hay beneficios que se pueden compartir.\n",
    "\n",
    "    Un ejemplo de los juegos de suma no cero es Genshin impact, porque en este se pueden hacer partidas colaborativas en donde \n",
    "    ambos jugadores obtengan beneficios, como por ejemplo, obtener recompensas, subir de nivel y objeto. Entonces, al entrar a alguna\n",
    "    mundo de otro jugador o cuando entran al mundo de uno, los jugadores pueden buscar una estrategia que maximice sus beneficios y minimice los beneficios de los demás. Incluso otro ejemplo es minecraft en donde muchas veces se juega multijugador mientras uno cumple el rol de construir la casa, otro exploración y otro minar, para obtener mayores recursos y compartirlos.\n",
    "\n",
    "\n",
    "\n",
    "4. ¿Cómo se aplica el concepto de equilibrio de Nash a los juegos simultáneos? Explicar cómo el equilibrio de \n",
    "Nash representa una solución estable en la que ningún jugador tiene un incentivo para desviarse \n",
    "unilateralmente de la estrategia elegida \n",
    "\n",
    "    El concepto de equilibrio de Nash se aplica en los juegos simultáneos porque los jugadores toman decisiones al mismo tiempo sin conocer las elecciones de los demás. Las aplicaciones están en la elección de estrategias ótimas cuando el jugador escoge su mejor respuesta para maximizar su utilidad a base de lo que los demás están haciendo. También, se aplica en la evaluación de posibles combinaciones para encontrar el equilibrio, evaluando las posibles combinaciones de estrategias, identificando las que en donde ninguna de las partes pueda mejorar su resultado cambiando su estrategia.\n",
    "\n",
    "\n",
    "\n",
    "5. Discuta la aplicación del temporal difference learning en el modelado y optimización de procesos de toma \n",
    "de decisiones en entornos dinámicos. ¿Cómo maneja el temporal difference learning el equilibrio entre \n",
    "exploración y explotación y cuáles son algunos de los desafíos asociados con su implementación en la \n",
    "práctica? \n",
    "\n",
    "    El temporal difference learning se usa en varios campos, como en la robótica, gestión de recursos y optimización de procesos industriales. Los agentes usan el temporal difference learning para ajustar sus politicas de acción basándose en las recompensas recibidas. Entonces, esto permite una adaptación continua y mejora en la toma de desiciones, esto ayuda al entorno ya que son dinámicos. \n",
    "\n",
    "    Acerca de como maneja el temporal difference learning el equilibrio y explotación, es que este maneja el equilibrio por varias estrategias que permiten al agente aprender de manera efectiva en entornos dinámicos, como la estrategia de Epsilon-Greedy y Softmax.\n",
    "    Los desafíos que puede tener este es en el ajuste de parámetros, ya que determinar el valor óptimo de ε o los parámetros de la función softmax puede ser muy complicado y depende del entorno específico. También en el balance dinámico porque los entornos que cambian muy rápidamente, el equilibrio entre exploración y explotación puede necesitar ajustes contunios para irse adaptando a las nuevas condiciones. Por último, es importante asegurar que el agente explore lo suficiente para descubrir todas las posibles acciones y las consecuencias que tiene.\n",
    "\n",
    "\n",
    "\n"
   ]
  },
  {
   "cell_type": "markdown",
   "metadata": {},
   "source": [
    "## Imports"
   ]
  },
  {
   "cell_type": "code",
   "execution_count": 1,
   "metadata": {},
   "outputs": [],
   "source": [
    "import numpy as np\n",
    "import random\n",
    "import math\n",
    "from IPython.display import clear_output\n",
    "import numpy as np\n",
    "import random\n",
    "import pickle\n",
    "import matplotlib.pyplot as plt\n"
   ]
  },
  {
   "cell_type": "code",
   "execution_count": 2,
   "metadata": {},
   "outputs": [
    {
     "name": "stdout",
     "output_type": "stream",
     "text": [
      "[[0 0 0 0 0 0 0]\n",
      " [0 0 0 0 0 0 0]\n",
      " [0 0 0 0 0 0 0]\n",
      " [0 0 0 0 0 0 0]\n",
      " [0 0 0 0 0 0 0]\n",
      " [0 0 0 0 0 0 0]]\n"
     ]
    }
   ],
   "source": [
    "class Conecta4:\n",
    "    FILAS = 6\n",
    "    COLUMNAS = 7\n",
    "    JUGADOR = 1\n",
    "    IA = 2\n",
    "\n",
    "    def __init__(self):\n",
    "        self.tablero = np.zeros((self.FILAS, self.COLUMNAS), dtype=int)  \n",
    "\n",
    "    def imprimir_tablero(self):\n",
    "        print(np.flip(self.tablero, 0)) \n",
    "\n",
    "    def es_movimiento_valido(self, columna):\n",
    "        return self.tablero[self.FILAS - 1, columna] == 0  \n",
    "\n",
    "    def obtener_fila_disponible(self, columna):\n",
    "        for fila in range(self.FILAS):\n",
    "            if self.tablero[fila, columna] == 0:\n",
    "                return fila\n",
    "        return None  \n",
    "\n",
    "    def realizar_movimiento(self, columna, jugador):\n",
    "        if not self.es_movimiento_valido(columna):\n",
    "            return False  \n",
    "        fila = self.obtener_fila_disponible(columna)\n",
    "        self.tablero[fila, columna] = jugador\n",
    "        return True\n",
    "\n",
    "    def verificar_victoria(self, jugador):\n",
    "        for fila in range(self.FILAS):\n",
    "            for col in range(self.COLUMNAS - 3):\n",
    "                if all(self.tablero[fila, col + i] == jugador for i in range(4)):\n",
    "                    return True\n",
    "\n",
    "        for col in range(self.COLUMNAS):\n",
    "            for fila in range(self.FILAS - 3):\n",
    "                if all(self.tablero[fila + i, col] == jugador for i in range(4)):\n",
    "                    return True\n",
    "\n",
    "        for fila in range(self.FILAS - 3):\n",
    "            for col in range(self.COLUMNAS - 3):\n",
    "                if all(self.tablero[fila + i, col + i] == jugador for i in range(4)):\n",
    "                    return True\n",
    "\n",
    "        for fila in range(3, self.FILAS):\n",
    "            for col in range(self.COLUMNAS - 3):\n",
    "                if all(self.tablero[fila - i, col + i] == jugador for i in range(4)):\n",
    "                    return True\n",
    "\n",
    "        return False  \n",
    "\n",
    "    def tablero_lleno(self):\n",
    "        return np.all(self.tablero != 0)\n",
    "\n",
    "    def obtener_movimientos_validos(self):\n",
    "        return [c for c in range(self.COLUMNAS) if self.es_movimiento_valido(c)]\n",
    "\n",
    "    def clonar_tablero(self):\n",
    "        nuevo = Conecta4()\n",
    "        nuevo.tablero = np.copy(self.tablero)\n",
    "        return nuevo\n",
    "\n",
    "# ====================== PRUEBA ======================\n",
    "if __name__ == \"__main__\":\n",
    "    tablero = Conecta4()\n",
    "    tablero.imprimir_tablero()"
   ]
  },
  {
   "cell_type": "code",
   "execution_count": 3,
   "metadata": {},
   "outputs": [],
   "source": [
    "import numpy as np\n",
    "import random\n",
    "import pickle  # para guardar la Q-table\n",
    "\n",
    "class AgenteTD:\n",
    "    def __init__(self, jugador=2, alpha=0.1, gamma=0.9, epsilon=0.1):\n",
    "        self.jugador = jugador  # 1 o 2\n",
    "        self.Q = {}  # Q[(estado, acción)] = valor\n",
    "        self.alpha = alpha\n",
    "        self.gamma = gamma\n",
    "        self.epsilon = epsilon\n",
    "\n",
    "    def obtener_estado(self, tablero):\n",
    "        \"\"\"Convierte el tablero a una tupla hashable\"\"\"\n",
    "        return tuple(tablero.flatten())\n",
    "\n",
    "    def elegir_accion(self, juego):\n",
    "        \"\"\"Estrategia ε-greedy\"\"\"\n",
    "        estado = self.obtener_estado(juego.tablero)\n",
    "        acciones = juego.obtener_movimientos_validos()\n",
    "\n",
    "        if random.random() < self.epsilon:\n",
    "            return random.choice(acciones)\n",
    "        \n",
    "        # Seleccionar acción con mayor Q\n",
    "        valores = [self.Q.get((estado, a), 0) for a in acciones]\n",
    "        max_q = max(valores)\n",
    "        mejores = [a for a, q in zip(acciones, valores) if q == max_q]\n",
    "        return random.choice(mejores)\n",
    "\n",
    "    def actualizar(self, estado, accion, recompensa, nuevo_estado, acciones_siguientes):\n",
    "        max_q_nuevo = max([self.Q.get((nuevo_estado, a), 0) for a in acciones_siguientes], default=0)\n",
    "        valor_actual = self.Q.get((estado, accion), 0)\n",
    "        self.Q[(estado, accion)] = valor_actual + self.alpha * (recompensa + self.gamma * max_q_nuevo - valor_actual)\n",
    "\n",
    "    def guardar(self, archivo='qtable.pkl'):\n",
    "        with open(archivo, 'wb') as f:\n",
    "            pickle.dump(self.Q, f)\n",
    "\n",
    "    def cargar(self, archivo='qtable.pkl'):\n",
    "        try:\n",
    "            with open(archivo, 'rb') as f:\n",
    "                self.Q = pickle.load(f)\n",
    "        except FileNotFoundError:\n",
    "            print(\"Q-table no encontrada. Se iniciará una vacía.\")\n"
   ]
  },
  {
   "cell_type": "code",
   "execution_count": 4,
   "metadata": {},
   "outputs": [],
   "source": [
    "def tres_en_linea(tablero, jugador):\n",
    "    conteo = 0\n",
    "\n",
    "    # Horizontal\n",
    "    for fila in range(tablero.FILAS):\n",
    "        for col in range(tablero.COLUMNAS - 3):\n",
    "            ventana = tablero.tablero[fila, col:col+4]\n",
    "            if np.count_nonzero(ventana == jugador) == 3 and np.count_nonzero(ventana == 0) == 1:\n",
    "                conteo += 1\n",
    "\n",
    "    # Vertical\n",
    "    for col in range(tablero.COLUMNAS):\n",
    "        for fila in range(tablero.FILAS - 3):\n",
    "            ventana = tablero.tablero[fila:fila+4, col]\n",
    "            if np.count_nonzero(ventana == jugador) == 3 and np.count_nonzero(ventana == 0) == 1:\n",
    "                conteo += 1\n",
    "\n",
    "    # Diagonal positiva\n",
    "    for fila in range(tablero.FILAS - 3):\n",
    "        for col in range(tablero.COLUMNAS - 3):\n",
    "            ventana = [tablero.tablero[fila + i, col + i] for i in range(4)]\n",
    "            if ventana.count(jugador) == 3 and ventana.count(0) == 1:\n",
    "                conteo += 1\n",
    "\n",
    "    # Diagonal negativa\n",
    "    for fila in range(3, tablero.FILAS):\n",
    "        for col in range(tablero.COLUMNAS - 3):\n",
    "            ventana = [tablero.tablero[fila - i, col + i] for i in range(4)]\n",
    "            if ventana.count(jugador) == 3 and ventana.count(0) == 1:\n",
    "                conteo += 1\n",
    "\n",
    "    return conteo\n"
   ]
  },
  {
   "cell_type": "code",
   "execution_count": null,
   "metadata": {},
   "outputs": [
    {
     "name": "stdout",
     "output_type": "stream",
     "text": [
      "Episodio 1000 completado.\n",
      "Episodio 2000 completado.\n",
      "Episodio 3000 completado.\n",
      "Episodio 4000 completado.\n",
      "Episodio 5000 completado.\n",
      "Episodio 6000 completado.\n",
      "Episodio 7000 completado.\n",
      "Episodio 8000 completado.\n",
      "Episodio 9000 completado.\n",
      "Episodio 10000 completado.\n",
      "Episodio 11000 completado.\n",
      "Episodio 12000 completado.\n",
      "Episodio 13000 completado.\n",
      "Episodio 14000 completado.\n",
      "Episodio 15000 completado.\n",
      "Episodio 16000 completado.\n",
      "Episodio 17000 completado.\n",
      "Episodio 18000 completado.\n",
      "Episodio 19000 completado.\n",
      "Episodio 20000 completado.\n",
      "Episodio 21000 completado.\n",
      "Episodio 22000 completado.\n",
      "Episodio 23000 completado.\n",
      "Episodio 24000 completado.\n",
      "Episodio 25000 completado.\n",
      "Episodio 26000 completado.\n",
      "Episodio 27000 completado.\n",
      "Episodio 28000 completado.\n",
      "Episodio 29000 completado.\n",
      "Episodio 30000 completado.\n",
      "Episodio 31000 completado.\n",
      "Episodio 32000 completado.\n",
      "Episodio 33000 completado.\n",
      "Episodio 34000 completado.\n",
      "Episodio 35000 completado.\n",
      "Episodio 36000 completado.\n",
      "Episodio 37000 completado.\n",
      "Episodio 38000 completado.\n",
      "Episodio 39000 completado.\n",
      "Episodio 40000 completado.\n",
      "Episodio 41000 completado.\n",
      "Episodio 42000 completado.\n",
      "Episodio 43000 completado.\n",
      "Episodio 44000 completado.\n",
      "Episodio 45000 completado.\n",
      "Episodio 46000 completado.\n",
      "Episodio 47000 completado.\n",
      "Episodio 48000 completado.\n",
      "Episodio 49000 completado.\n",
      "Episodio 50000 completado.\n"
     ]
    }
   ],
   "source": [
    "# Entrenamiento del agente TD jugando contra un oponente aleatorio\n",
    "\n",
    "#\n",
    "agente_td = AgenteTD(jugador=Conecta4.IA)\n",
    "oponente = Conecta4.JUGADOR\n",
    "\n",
    "episodios = 50000 \n",
    "\n",
    "for episodio in range(episodios):\n",
    "    juego = Conecta4()\n",
    "    estado = agente_td.obtener_estado(juego.tablero)\n",
    "    turno = agente_td.jugador\n",
    "\n",
    "    while not juego.tablero_lleno():\n",
    "        if turno == agente_td.jugador:\n",
    "            accion = agente_td.elegir_accion(juego)\n",
    "            juego.realizar_movimiento(accion, agente_td.jugador)\n",
    "\n",
    "            if juego.verificar_victoria(agente_td.jugador):\n",
    "                recompensa = 1\n",
    "                nuevo_estado = agente_td.obtener_estado(juego.tablero)\n",
    "                agente_td.actualizar(estado, accion, recompensa, nuevo_estado, [])\n",
    "                break\n",
    "\n",
    "            nuevo_estado = agente_td.obtener_estado(juego.tablero)\n",
    "            acciones_siguientes = juego.obtener_movimientos_validos()\n",
    "            agente_td.actualizar(estado, accion, 0, nuevo_estado, acciones_siguientes)\n",
    "            estado = nuevo_estado\n",
    "            turno = oponente\n",
    "\n",
    "        else:\n",
    "            accion_oponente = random.choice(juego.obtener_movimientos_validos())\n",
    "            juego.realizar_movimiento(accion_oponente, oponente)\n",
    "            if juego.verificar_victoria(oponente):\n",
    "                recompensa = -1\n",
    "                nuevo_estado = agente_td.obtener_estado(juego.tablero)\n",
    "                agente_td.actualizar(estado, accion, recompensa, nuevo_estado, [])\n",
    "                break\n",
    "            turno = agente_td.jugador\n",
    "\n",
    "    # Recompensa por empate si el tablero se llena y no hubo victoria\n",
    "    if juego.tablero_lleno() and not juego.verificar_victoria(agente_td.jugador) and not juego.verificar_victoria(oponente):\n",
    "        agente_td.actualizar(estado, accion, 0.5, agente_td.obtener_estado(juego.tablero), [])\n",
    "\n",
    "    if (episodio + 1) % 1000 == 0:\n",
    "        print(f\"Episodio {episodio + 1} completado.\")\n"
   ]
  },
  {
   "cell_type": "code",
   "execution_count": 5,
   "metadata": {},
   "outputs": [],
   "source": [
    "class AgenteIA:\n",
    "    def __init__(self, profundidad=4, poda_alpha_beta=True):\n",
    "        self.profundidad = profundidad\n",
    "        self.poda_alpha_beta = poda_alpha_beta\n",
    "\n",
    "    def evaluar_ventana(self, ventana, jugador):\n",
    "        puntuacion = 0\n",
    "        oponente = 3 - jugador  \n",
    "\n",
    "        # 4 en línea → Victoria\n",
    "        if np.count_nonzero(ventana == jugador) == 4:  \n",
    "            puntuacion += 1000  \n",
    "        elif np.count_nonzero(ventana == jugador) == 3 and np.count_nonzero(ventana == 0) == 1:\n",
    "            puntuacion += 100  # Muy fuerte\n",
    "        elif np.count_nonzero(ventana == jugador) == 2 and np.count_nonzero(ventana == 0) == 2:\n",
    "            puntuacion += 10  # Buena jugada\n",
    "        elif np.count_nonzero(ventana == oponente) == 3 and np.count_nonzero(ventana == 0) == 1:\n",
    "            puntuacion -= 100  # Bloquear jugada peligrosa\n",
    "        elif np.count_nonzero(ventana == oponente) == 2 and np.count_nonzero(ventana == 0) == 2:\n",
    "            puntuacion -= 10  # Bloqueo medio\n",
    "\n",
    "        return puntuacion\n",
    "\n",
    "\n",
    "    def evaluar_posicion(self, tablero, jugador):\n",
    "        if tablero.verificar_victoria(jugador):\n",
    "            return 1000\n",
    "        elif tablero.verificar_victoria(3 - jugador):  \n",
    "            return -1000\n",
    "        else:\n",
    "            return random.randint(-10, 10)  \n",
    "\n",
    "    def minimax(self, tablero, profundidad, alpha, beta, maximizando):\n",
    "        if profundidad == 0 or tablero.verificar_victoria(Conecta4.JUGADOR) or tablero.verificar_victoria(Conecta4.IA) or tablero.tablero_lleno():\n",
    "            return self.evaluar_posicion(tablero, Conecta4.IA)\n",
    "\n",
    "        movimientos = tablero.obtener_movimientos_validos()\n",
    "\n",
    "        if maximizando:  \n",
    "            max_eval = -np.inf\n",
    "            for columna in movimientos:\n",
    "                tablero_copia = tablero.clonar_tablero()\n",
    "                tablero_copia.realizar_movimiento(columna, Conecta4.IA)\n",
    "                evaluacion = self.minimax(tablero_copia, profundidad - 1, alpha, beta, False)\n",
    "                max_eval = max(max_eval, evaluacion)\n",
    "\n",
    "                if self.poda_alpha_beta:\n",
    "                    alpha = max(alpha, evaluacion)\n",
    "                    if beta <= alpha:\n",
    "                        break  \n",
    "            return max_eval\n",
    "        else:  \n",
    "            min_eval = np.inf\n",
    "            for columna in movimientos:\n",
    "                tablero_copia = tablero.clonar_tablero()\n",
    "                tablero_copia.realizar_movimiento(columna, Conecta4.JUGADOR)\n",
    "                evaluacion = self.minimax(tablero_copia, profundidad - 1, alpha, beta, True)\n",
    "                min_eval = min(min_eval, evaluacion)\n",
    "\n",
    "                if self.poda_alpha_beta:\n",
    "                    beta = min(beta, evaluacion)\n",
    "                    if beta <= alpha:\n",
    "                        break  \n",
    "            return min_eval\n",
    "\n",
    "    def mejor_movimiento(self, tablero):\n",
    "        \"\"\" Calcula el mejor movimiento disponible usando Minimax \"\"\"\n",
    "        mejor_columna = random.choice(tablero.obtener_movimientos_validos())  \n",
    "        mejor_valor = -np.inf\n",
    "        alpha, beta = -np.inf, np.inf\n",
    "\n",
    "        for columna in tablero.obtener_movimientos_validos():\n",
    "            tablero_copia = tablero.clonar_tablero()\n",
    "            tablero_copia.realizar_movimiento(columna, Conecta4.IA)\n",
    "            valor_movimiento = self.minimax(tablero_copia, self.profundidad, alpha, beta, False)\n",
    "\n",
    "            if valor_movimiento > mejor_valor:\n",
    "                mejor_valor = valor_movimiento\n",
    "                mejor_columna = columna\n",
    "\n",
    "        return mejor_columna"
   ]
  },
  {
   "cell_type": "code",
   "execution_count": 7,
   "metadata": {},
   "outputs": [
    {
     "name": "stderr",
     "output_type": "stream",
     "text": [
      "  0%|          | 0/200 [00:00<?, ?it/s]"
     ]
    },
    {
     "name": "stdout",
     "output_type": "stream",
     "text": [
      "0\n"
     ]
    },
    {
     "name": "stderr",
     "output_type": "stream",
     "text": [
      "  0%|          | 1/200 [00:02<09:13,  2.78s/it]"
     ]
    },
    {
     "name": "stdout",
     "output_type": "stream",
     "text": [
      "1\n"
     ]
    },
    {
     "name": "stderr",
     "output_type": "stream",
     "text": [
      "  1%|          | 2/200 [00:05<08:07,  2.46s/it]"
     ]
    },
    {
     "name": "stdout",
     "output_type": "stream",
     "text": [
      "2\n"
     ]
    },
    {
     "name": "stderr",
     "output_type": "stream",
     "text": [
      "  2%|▏         | 3/200 [00:07<08:03,  2.45s/it]"
     ]
    },
    {
     "name": "stdout",
     "output_type": "stream",
     "text": [
      "3\n"
     ]
    },
    {
     "name": "stderr",
     "output_type": "stream",
     "text": [
      "  2%|▏         | 4/200 [00:10<08:37,  2.64s/it]"
     ]
    },
    {
     "name": "stdout",
     "output_type": "stream",
     "text": [
      "4\n"
     ]
    },
    {
     "name": "stderr",
     "output_type": "stream",
     "text": [
      "  2%|▎         | 5/200 [00:14<10:46,  3.31s/it]"
     ]
    },
    {
     "name": "stdout",
     "output_type": "stream",
     "text": [
      "5\n"
     ]
    },
    {
     "name": "stderr",
     "output_type": "stream",
     "text": [
      "  3%|▎         | 6/200 [00:16<09:17,  2.87s/it]"
     ]
    },
    {
     "name": "stdout",
     "output_type": "stream",
     "text": [
      "6\n"
     ]
    },
    {
     "name": "stderr",
     "output_type": "stream",
     "text": [
      "  4%|▎         | 7/200 [00:18<08:09,  2.54s/it]"
     ]
    },
    {
     "name": "stdout",
     "output_type": "stream",
     "text": [
      "7\n"
     ]
    },
    {
     "name": "stderr",
     "output_type": "stream",
     "text": [
      "  4%|▍         | 8/200 [00:22<09:01,  2.82s/it]"
     ]
    },
    {
     "name": "stdout",
     "output_type": "stream",
     "text": [
      "8\n"
     ]
    },
    {
     "name": "stderr",
     "output_type": "stream",
     "text": [
      "  4%|▍         | 9/200 [00:24<08:05,  2.54s/it]"
     ]
    },
    {
     "name": "stdout",
     "output_type": "stream",
     "text": [
      "9\n"
     ]
    },
    {
     "name": "stderr",
     "output_type": "stream",
     "text": [
      "  5%|▌         | 10/200 [00:26<08:16,  2.62s/it]"
     ]
    },
    {
     "name": "stdout",
     "output_type": "stream",
     "text": [
      "10\n"
     ]
    },
    {
     "name": "stderr",
     "output_type": "stream",
     "text": [
      "  6%|▌         | 11/200 [00:30<09:03,  2.87s/it]"
     ]
    },
    {
     "name": "stdout",
     "output_type": "stream",
     "text": [
      "11\n"
     ]
    },
    {
     "name": "stderr",
     "output_type": "stream",
     "text": [
      "  6%|▌         | 12/200 [00:34<10:16,  3.28s/it]"
     ]
    },
    {
     "name": "stdout",
     "output_type": "stream",
     "text": [
      "12\n"
     ]
    },
    {
     "name": "stderr",
     "output_type": "stream",
     "text": [
      "  6%|▋         | 13/200 [00:42<14:20,  4.60s/it]"
     ]
    },
    {
     "name": "stdout",
     "output_type": "stream",
     "text": [
      "13\n"
     ]
    },
    {
     "name": "stderr",
     "output_type": "stream",
     "text": [
      "  7%|▋         | 14/200 [00:46<14:18,  4.62s/it]"
     ]
    },
    {
     "name": "stdout",
     "output_type": "stream",
     "text": [
      "14\n"
     ]
    },
    {
     "name": "stderr",
     "output_type": "stream",
     "text": [
      "  8%|▊         | 15/200 [00:53<16:31,  5.36s/it]"
     ]
    },
    {
     "name": "stdout",
     "output_type": "stream",
     "text": [
      "15\n"
     ]
    },
    {
     "name": "stderr",
     "output_type": "stream",
     "text": [
      "  8%|▊         | 16/200 [01:00<17:47,  5.80s/it]"
     ]
    },
    {
     "name": "stdout",
     "output_type": "stream",
     "text": [
      "16\n"
     ]
    },
    {
     "name": "stderr",
     "output_type": "stream",
     "text": [
      "  8%|▊         | 17/200 [01:06<18:00,  5.91s/it]"
     ]
    },
    {
     "name": "stdout",
     "output_type": "stream",
     "text": [
      "17\n"
     ]
    },
    {
     "name": "stderr",
     "output_type": "stream",
     "text": [
      "  9%|▉         | 18/200 [01:09<14:49,  4.89s/it]"
     ]
    },
    {
     "name": "stdout",
     "output_type": "stream",
     "text": [
      "18\n"
     ]
    },
    {
     "name": "stderr",
     "output_type": "stream",
     "text": [
      " 10%|▉         | 19/200 [01:15<16:14,  5.38s/it]"
     ]
    },
    {
     "name": "stdout",
     "output_type": "stream",
     "text": [
      "19\n",
      "\n",
      "🧪 Evaluando tras 20 episodios:\n",
      "Partida:  0\n",
      "Partida:  1\n",
      "Partida:  2\n",
      "Partida:  3\n",
      "Partida:  4\n",
      "Partida:  5\n",
      "Partida:  6\n",
      "Partida:  7\n",
      "Partida:  8\n",
      "Partida:  9\n"
     ]
    },
    {
     "name": "stderr",
     "output_type": "stream",
     "text": [
      " 10%|█         | 20/200 [02:01<52:24, 17.47s/it]"
     ]
    },
    {
     "name": "stdout",
     "output_type": "stream",
     "text": [
      "Victorias TD: 0/10\n",
      "Empates:      0/10\n",
      "Derrotas:     10/10\n",
      "20\n"
     ]
    },
    {
     "name": "stderr",
     "output_type": "stream",
     "text": [
      " 10%|█         | 21/200 [02:04<39:19, 13.18s/it]"
     ]
    },
    {
     "name": "stdout",
     "output_type": "stream",
     "text": [
      "21\n"
     ]
    },
    {
     "name": "stderr",
     "output_type": "stream",
     "text": [
      " 11%|█         | 22/200 [02:10<32:53, 11.09s/it]"
     ]
    },
    {
     "name": "stdout",
     "output_type": "stream",
     "text": [
      "22\n"
     ]
    },
    {
     "name": "stderr",
     "output_type": "stream",
     "text": [
      " 12%|█▏        | 23/200 [02:19<30:25, 10.31s/it]"
     ]
    },
    {
     "name": "stdout",
     "output_type": "stream",
     "text": [
      "23\n"
     ]
    },
    {
     "name": "stderr",
     "output_type": "stream",
     "text": [
      " 12%|█▏        | 24/200 [02:23<24:23,  8.31s/it]"
     ]
    },
    {
     "name": "stdout",
     "output_type": "stream",
     "text": [
      "24\n"
     ]
    },
    {
     "name": "stderr",
     "output_type": "stream",
     "text": [
      " 12%|█▎        | 25/200 [02:28<21:29,  7.37s/it]"
     ]
    },
    {
     "name": "stdout",
     "output_type": "stream",
     "text": [
      "25\n"
     ]
    },
    {
     "name": "stderr",
     "output_type": "stream",
     "text": [
      " 13%|█▎        | 26/200 [02:38<24:06,  8.31s/it]"
     ]
    },
    {
     "name": "stdout",
     "output_type": "stream",
     "text": [
      "26\n"
     ]
    },
    {
     "name": "stderr",
     "output_type": "stream",
     "text": [
      " 14%|█▎        | 27/200 [02:43<20:47,  7.21s/it]"
     ]
    },
    {
     "name": "stdout",
     "output_type": "stream",
     "text": [
      "27\n"
     ]
    },
    {
     "name": "stderr",
     "output_type": "stream",
     "text": [
      " 14%|█▍        | 28/200 [02:52<21:58,  7.67s/it]"
     ]
    },
    {
     "name": "stdout",
     "output_type": "stream",
     "text": [
      "28\n"
     ]
    },
    {
     "name": "stderr",
     "output_type": "stream",
     "text": [
      " 14%|█▍        | 29/200 [03:06<27:28,  9.64s/it]"
     ]
    },
    {
     "name": "stdout",
     "output_type": "stream",
     "text": [
      "29\n"
     ]
    },
    {
     "name": "stderr",
     "output_type": "stream",
     "text": [
      " 15%|█▌        | 30/200 [03:25<35:30, 12.53s/it]"
     ]
    },
    {
     "name": "stdout",
     "output_type": "stream",
     "text": [
      "30\n"
     ]
    },
    {
     "name": "stderr",
     "output_type": "stream",
     "text": [
      " 16%|█▌        | 31/200 [03:31<29:53, 10.61s/it]"
     ]
    },
    {
     "name": "stdout",
     "output_type": "stream",
     "text": [
      "31\n"
     ]
    },
    {
     "name": "stderr",
     "output_type": "stream",
     "text": [
      " 16%|█▌        | 32/200 [03:37<25:44,  9.19s/it]"
     ]
    },
    {
     "name": "stdout",
     "output_type": "stream",
     "text": [
      "32\n"
     ]
    },
    {
     "name": "stderr",
     "output_type": "stream",
     "text": [
      " 16%|█▋        | 33/200 [03:41<21:20,  7.67s/it]"
     ]
    },
    {
     "name": "stdout",
     "output_type": "stream",
     "text": [
      "33\n"
     ]
    },
    {
     "name": "stderr",
     "output_type": "stream",
     "text": [
      " 17%|█▋        | 34/200 [03:43<16:37,  6.01s/it]"
     ]
    },
    {
     "name": "stdout",
     "output_type": "stream",
     "text": [
      "34\n"
     ]
    },
    {
     "name": "stderr",
     "output_type": "stream",
     "text": [
      " 18%|█▊        | 35/200 [03:47<14:09,  5.15s/it]"
     ]
    },
    {
     "name": "stdout",
     "output_type": "stream",
     "text": [
      "35\n"
     ]
    },
    {
     "name": "stderr",
     "output_type": "stream",
     "text": [
      " 18%|█▊        | 36/200 [03:52<13:57,  5.11s/it]"
     ]
    },
    {
     "name": "stdout",
     "output_type": "stream",
     "text": [
      "36\n"
     ]
    },
    {
     "name": "stderr",
     "output_type": "stream",
     "text": [
      " 18%|█▊        | 37/200 [03:56<13:15,  4.88s/it]"
     ]
    },
    {
     "name": "stdout",
     "output_type": "stream",
     "text": [
      "37\n"
     ]
    },
    {
     "name": "stderr",
     "output_type": "stream",
     "text": [
      " 19%|█▉        | 38/200 [03:59<11:42,  4.34s/it]"
     ]
    },
    {
     "name": "stdout",
     "output_type": "stream",
     "text": [
      "38\n"
     ]
    },
    {
     "name": "stderr",
     "output_type": "stream",
     "text": [
      " 20%|█▉        | 39/200 [04:04<12:07,  4.52s/it]"
     ]
    },
    {
     "name": "stdout",
     "output_type": "stream",
     "text": [
      "39\n",
      "\n",
      "🧪 Evaluando tras 40 episodios:\n",
      "Partida:  0\n",
      "Partida:  1\n",
      "Partida:  2\n",
      "Partida:  3\n",
      "Partida:  4\n",
      "Partida:  5\n",
      "Partida:  6\n",
      "Partida:  7\n",
      "Partida:  8\n",
      "Partida:  9\n"
     ]
    },
    {
     "name": "stderr",
     "output_type": "stream",
     "text": [
      " 20%|██        | 40/200 [05:08<59:46, 22.41s/it]"
     ]
    },
    {
     "name": "stdout",
     "output_type": "stream",
     "text": [
      "Victorias TD: 0/10\n",
      "Empates:      0/10\n",
      "Derrotas:     10/10\n",
      "40\n"
     ]
    },
    {
     "name": "stderr",
     "output_type": "stream",
     "text": [
      " 20%|██        | 41/200 [05:11<44:10, 16.67s/it]"
     ]
    },
    {
     "name": "stdout",
     "output_type": "stream",
     "text": [
      "41\n"
     ]
    },
    {
     "name": "stderr",
     "output_type": "stream",
     "text": [
      " 21%|██        | 42/200 [05:15<33:22, 12.67s/it]"
     ]
    },
    {
     "name": "stdout",
     "output_type": "stream",
     "text": [
      "42\n"
     ]
    },
    {
     "name": "stderr",
     "output_type": "stream",
     "text": [
      " 22%|██▏       | 43/200 [05:17<25:02,  9.57s/it]"
     ]
    },
    {
     "name": "stdout",
     "output_type": "stream",
     "text": [
      "43\n"
     ]
    },
    {
     "name": "stderr",
     "output_type": "stream",
     "text": [
      " 22%|██▏       | 44/200 [05:19<18:51,  7.25s/it]"
     ]
    },
    {
     "name": "stdout",
     "output_type": "stream",
     "text": [
      "44\n"
     ]
    },
    {
     "name": "stderr",
     "output_type": "stream",
     "text": [
      " 22%|██▎       | 45/200 [05:20<14:12,  5.50s/it]"
     ]
    },
    {
     "name": "stdout",
     "output_type": "stream",
     "text": [
      "45\n"
     ]
    },
    {
     "name": "stderr",
     "output_type": "stream",
     "text": [
      " 23%|██▎       | 46/200 [05:23<11:32,  4.50s/it]"
     ]
    },
    {
     "name": "stdout",
     "output_type": "stream",
     "text": [
      "46\n"
     ]
    },
    {
     "name": "stderr",
     "output_type": "stream",
     "text": [
      " 24%|██▎       | 47/200 [05:27<11:20,  4.45s/it]"
     ]
    },
    {
     "name": "stdout",
     "output_type": "stream",
     "text": [
      "47\n"
     ]
    },
    {
     "name": "stderr",
     "output_type": "stream",
     "text": [
      " 24%|██▍       | 48/200 [05:28<09:05,  3.59s/it]"
     ]
    },
    {
     "name": "stdout",
     "output_type": "stream",
     "text": [
      "48\n"
     ]
    },
    {
     "name": "stderr",
     "output_type": "stream",
     "text": [
      " 24%|██▍       | 49/200 [05:31<08:10,  3.25s/it]"
     ]
    },
    {
     "name": "stdout",
     "output_type": "stream",
     "text": [
      "49\n"
     ]
    },
    {
     "name": "stderr",
     "output_type": "stream",
     "text": [
      " 25%|██▌       | 50/200 [05:34<07:56,  3.18s/it]"
     ]
    },
    {
     "name": "stdout",
     "output_type": "stream",
     "text": [
      "50\n"
     ]
    },
    {
     "name": "stderr",
     "output_type": "stream",
     "text": [
      " 26%|██▌       | 51/200 [05:38<08:49,  3.55s/it]"
     ]
    },
    {
     "name": "stdout",
     "output_type": "stream",
     "text": [
      "51\n"
     ]
    },
    {
     "name": "stderr",
     "output_type": "stream",
     "text": [
      " 26%|██▌       | 52/200 [05:43<09:33,  3.88s/it]"
     ]
    },
    {
     "name": "stdout",
     "output_type": "stream",
     "text": [
      "52\n"
     ]
    },
    {
     "name": "stderr",
     "output_type": "stream",
     "text": [
      " 26%|██▋       | 53/200 [05:46<09:13,  3.76s/it]"
     ]
    },
    {
     "name": "stdout",
     "output_type": "stream",
     "text": [
      "53\n"
     ]
    },
    {
     "name": "stderr",
     "output_type": "stream",
     "text": [
      " 27%|██▋       | 54/200 [05:50<08:37,  3.54s/it]"
     ]
    },
    {
     "name": "stdout",
     "output_type": "stream",
     "text": [
      "54\n"
     ]
    },
    {
     "name": "stderr",
     "output_type": "stream",
     "text": [
      " 28%|██▊       | 55/200 [05:52<07:37,  3.15s/it]"
     ]
    },
    {
     "name": "stdout",
     "output_type": "stream",
     "text": [
      "55\n"
     ]
    },
    {
     "name": "stderr",
     "output_type": "stream",
     "text": [
      " 28%|██▊       | 56/200 [05:54<07:01,  2.93s/it]"
     ]
    },
    {
     "name": "stdout",
     "output_type": "stream",
     "text": [
      "56\n"
     ]
    },
    {
     "name": "stderr",
     "output_type": "stream",
     "text": [
      " 28%|██▊       | 57/200 [05:57<06:50,  2.87s/it]"
     ]
    },
    {
     "name": "stdout",
     "output_type": "stream",
     "text": [
      "57\n"
     ]
    },
    {
     "name": "stderr",
     "output_type": "stream",
     "text": [
      " 29%|██▉       | 58/200 [05:59<06:27,  2.73s/it]"
     ]
    },
    {
     "name": "stdout",
     "output_type": "stream",
     "text": [
      "58\n"
     ]
    },
    {
     "name": "stderr",
     "output_type": "stream",
     "text": [
      " 30%|██▉       | 59/200 [06:03<07:00,  2.98s/it]"
     ]
    },
    {
     "name": "stdout",
     "output_type": "stream",
     "text": [
      "59\n",
      "\n",
      "🧪 Evaluando tras 60 episodios:\n",
      "Partida:  0\n",
      "Partida:  1\n",
      "Partida:  2\n",
      "Partida:  3\n",
      "Partida:  4\n",
      "Partida:  5\n",
      "Partida:  6\n",
      "Partida:  7\n",
      "Partida:  8\n",
      "Partida:  9\n"
     ]
    },
    {
     "name": "stderr",
     "output_type": "stream",
     "text": [
      " 30%|███       | 60/200 [06:46<34:46, 14.91s/it]"
     ]
    },
    {
     "name": "stdout",
     "output_type": "stream",
     "text": [
      "Victorias TD: 1/10\n",
      "Empates:      0/10\n",
      "Derrotas:     9/10\n",
      "60\n"
     ]
    },
    {
     "name": "stderr",
     "output_type": "stream",
     "text": [
      " 30%|███       | 61/200 [06:48<26:08, 11.29s/it]"
     ]
    },
    {
     "name": "stdout",
     "output_type": "stream",
     "text": [
      "61\n"
     ]
    },
    {
     "name": "stderr",
     "output_type": "stream",
     "text": [
      " 31%|███       | 62/200 [06:51<19:36,  8.52s/it]"
     ]
    },
    {
     "name": "stdout",
     "output_type": "stream",
     "text": [
      "62\n"
     ]
    },
    {
     "name": "stderr",
     "output_type": "stream",
     "text": [
      " 32%|███▏      | 63/200 [06:52<14:40,  6.43s/it]"
     ]
    },
    {
     "name": "stdout",
     "output_type": "stream",
     "text": [
      "63\n"
     ]
    },
    {
     "name": "stderr",
     "output_type": "stream",
     "text": [
      " 32%|███▏      | 64/200 [06:57<13:27,  5.94s/it]"
     ]
    },
    {
     "name": "stdout",
     "output_type": "stream",
     "text": [
      "64\n"
     ]
    },
    {
     "name": "stderr",
     "output_type": "stream",
     "text": [
      " 32%|███▎      | 65/200 [07:00<11:34,  5.15s/it]"
     ]
    },
    {
     "name": "stdout",
     "output_type": "stream",
     "text": [
      "65\n"
     ]
    },
    {
     "name": "stderr",
     "output_type": "stream",
     "text": [
      " 33%|███▎      | 66/200 [07:04<10:48,  4.84s/it]"
     ]
    },
    {
     "name": "stdout",
     "output_type": "stream",
     "text": [
      "66\n"
     ]
    },
    {
     "name": "stderr",
     "output_type": "stream",
     "text": [
      " 34%|███▎      | 67/200 [07:06<08:33,  3.86s/it]"
     ]
    },
    {
     "name": "stdout",
     "output_type": "stream",
     "text": [
      "67\n"
     ]
    },
    {
     "name": "stderr",
     "output_type": "stream",
     "text": [
      " 34%|███▍      | 68/200 [07:10<08:23,  3.81s/it]"
     ]
    },
    {
     "name": "stdout",
     "output_type": "stream",
     "text": [
      "68\n"
     ]
    },
    {
     "name": "stderr",
     "output_type": "stream",
     "text": [
      " 34%|███▍      | 69/200 [07:13<07:47,  3.57s/it]"
     ]
    },
    {
     "name": "stdout",
     "output_type": "stream",
     "text": [
      "69\n"
     ]
    },
    {
     "name": "stderr",
     "output_type": "stream",
     "text": [
      " 35%|███▌      | 70/200 [07:18<09:07,  4.21s/it]"
     ]
    },
    {
     "name": "stdout",
     "output_type": "stream",
     "text": [
      "70\n"
     ]
    },
    {
     "name": "stderr",
     "output_type": "stream",
     "text": [
      " 36%|███▌      | 71/200 [07:21<08:18,  3.86s/it]"
     ]
    },
    {
     "name": "stdout",
     "output_type": "stream",
     "text": [
      "71\n"
     ]
    },
    {
     "name": "stderr",
     "output_type": "stream",
     "text": [
      " 36%|███▌      | 72/200 [07:26<08:49,  4.14s/it]"
     ]
    },
    {
     "name": "stdout",
     "output_type": "stream",
     "text": [
      "72\n"
     ]
    },
    {
     "name": "stderr",
     "output_type": "stream",
     "text": [
      " 36%|███▋      | 73/200 [07:29<08:12,  3.88s/it]"
     ]
    },
    {
     "name": "stdout",
     "output_type": "stream",
     "text": [
      "73\n"
     ]
    },
    {
     "name": "stderr",
     "output_type": "stream",
     "text": [
      " 37%|███▋      | 74/200 [07:33<07:57,  3.79s/it]"
     ]
    },
    {
     "name": "stdout",
     "output_type": "stream",
     "text": [
      "74\n"
     ]
    },
    {
     "name": "stderr",
     "output_type": "stream",
     "text": [
      " 38%|███▊      | 75/200 [07:37<07:49,  3.75s/it]"
     ]
    },
    {
     "name": "stdout",
     "output_type": "stream",
     "text": [
      "75\n"
     ]
    },
    {
     "name": "stderr",
     "output_type": "stream",
     "text": [
      " 38%|███▊      | 76/200 [07:40<07:26,  3.60s/it]"
     ]
    },
    {
     "name": "stdout",
     "output_type": "stream",
     "text": [
      "76\n"
     ]
    },
    {
     "name": "stderr",
     "output_type": "stream",
     "text": [
      " 38%|███▊      | 77/200 [07:42<06:42,  3.27s/it]"
     ]
    },
    {
     "name": "stdout",
     "output_type": "stream",
     "text": [
      "77\n"
     ]
    },
    {
     "name": "stderr",
     "output_type": "stream",
     "text": [
      " 39%|███▉      | 78/200 [07:49<08:26,  4.15s/it]"
     ]
    },
    {
     "name": "stdout",
     "output_type": "stream",
     "text": [
      "78\n"
     ]
    },
    {
     "name": "stderr",
     "output_type": "stream",
     "text": [
      " 40%|███▉      | 79/200 [07:57<11:14,  5.58s/it]"
     ]
    },
    {
     "name": "stdout",
     "output_type": "stream",
     "text": [
      "79\n",
      "\n",
      "🧪 Evaluando tras 80 episodios:\n",
      "Partida:  0\n",
      "Partida:  1\n",
      "Partida:  2\n",
      "Partida:  3\n",
      "Partida:  4\n",
      "Partida:  5\n",
      "Partida:  6\n",
      "Partida:  7\n",
      "Partida:  8\n",
      "Partida:  9\n"
     ]
    },
    {
     "name": "stderr",
     "output_type": "stream",
     "text": [
      " 40%|████      | 80/200 [08:56<42:52, 21.44s/it]"
     ]
    },
    {
     "name": "stdout",
     "output_type": "stream",
     "text": [
      "Victorias TD: 2/10\n",
      "Empates:      0/10\n",
      "Derrotas:     8/10\n",
      "80\n"
     ]
    },
    {
     "name": "stderr",
     "output_type": "stream",
     "text": [
      " 40%|████      | 81/200 [09:00<32:17, 16.29s/it]"
     ]
    },
    {
     "name": "stdout",
     "output_type": "stream",
     "text": [
      "81\n"
     ]
    },
    {
     "name": "stderr",
     "output_type": "stream",
     "text": [
      " 41%|████      | 82/200 [09:03<24:22, 12.39s/it]"
     ]
    },
    {
     "name": "stdout",
     "output_type": "stream",
     "text": [
      "82\n"
     ]
    },
    {
     "name": "stderr",
     "output_type": "stream",
     "text": [
      " 42%|████▏     | 83/200 [09:14<23:10, 11.89s/it]"
     ]
    },
    {
     "name": "stdout",
     "output_type": "stream",
     "text": [
      "83\n"
     ]
    },
    {
     "name": "stderr",
     "output_type": "stream",
     "text": [
      " 42%|████▏     | 84/200 [09:23<20:59, 10.86s/it]"
     ]
    },
    {
     "name": "stdout",
     "output_type": "stream",
     "text": [
      "84\n"
     ]
    },
    {
     "name": "stderr",
     "output_type": "stream",
     "text": [
      " 42%|████▎     | 85/200 [09:27<17:09,  8.95s/it]"
     ]
    },
    {
     "name": "stdout",
     "output_type": "stream",
     "text": [
      "85\n"
     ]
    },
    {
     "name": "stderr",
     "output_type": "stream",
     "text": [
      " 43%|████▎     | 86/200 [09:34<15:55,  8.38s/it]"
     ]
    },
    {
     "name": "stdout",
     "output_type": "stream",
     "text": [
      "86\n"
     ]
    },
    {
     "name": "stderr",
     "output_type": "stream",
     "text": [
      " 44%|████▎     | 87/200 [09:43<15:59,  8.49s/it]"
     ]
    },
    {
     "name": "stdout",
     "output_type": "stream",
     "text": [
      "87\n"
     ]
    },
    {
     "name": "stderr",
     "output_type": "stream",
     "text": [
      " 44%|████▍     | 88/200 [09:48<13:42,  7.34s/it]"
     ]
    },
    {
     "name": "stdout",
     "output_type": "stream",
     "text": [
      "88\n"
     ]
    },
    {
     "name": "stderr",
     "output_type": "stream",
     "text": [
      " 44%|████▍     | 89/200 [09:57<14:26,  7.81s/it]"
     ]
    },
    {
     "name": "stdout",
     "output_type": "stream",
     "text": [
      "89\n"
     ]
    },
    {
     "name": "stderr",
     "output_type": "stream",
     "text": [
      " 45%|████▌     | 90/200 [10:04<14:18,  7.80s/it]"
     ]
    },
    {
     "name": "stdout",
     "output_type": "stream",
     "text": [
      "90\n"
     ]
    },
    {
     "name": "stderr",
     "output_type": "stream",
     "text": [
      " 46%|████▌     | 91/200 [10:10<12:51,  7.08s/it]"
     ]
    },
    {
     "name": "stdout",
     "output_type": "stream",
     "text": [
      "91\n"
     ]
    },
    {
     "name": "stderr",
     "output_type": "stream",
     "text": [
      " 46%|████▌     | 92/200 [10:17<12:39,  7.03s/it]"
     ]
    },
    {
     "name": "stdout",
     "output_type": "stream",
     "text": [
      "92\n"
     ]
    },
    {
     "name": "stderr",
     "output_type": "stream",
     "text": [
      " 46%|████▋     | 93/200 [10:20<10:35,  5.94s/it]"
     ]
    },
    {
     "name": "stdout",
     "output_type": "stream",
     "text": [
      "93\n"
     ]
    },
    {
     "name": "stderr",
     "output_type": "stream",
     "text": [
      " 47%|████▋     | 94/200 [10:29<12:13,  6.92s/it]"
     ]
    },
    {
     "name": "stdout",
     "output_type": "stream",
     "text": [
      "94\n"
     ]
    },
    {
     "name": "stderr",
     "output_type": "stream",
     "text": [
      " 48%|████▊     | 95/200 [10:37<12:45,  7.29s/it]"
     ]
    },
    {
     "name": "stdout",
     "output_type": "stream",
     "text": [
      "95\n"
     ]
    },
    {
     "name": "stderr",
     "output_type": "stream",
     "text": [
      " 48%|████▊     | 96/200 [10:43<11:56,  6.89s/it]"
     ]
    },
    {
     "name": "stdout",
     "output_type": "stream",
     "text": [
      "96\n"
     ]
    },
    {
     "name": "stderr",
     "output_type": "stream",
     "text": [
      " 48%|████▊     | 97/200 [10:49<11:13,  6.54s/it]"
     ]
    },
    {
     "name": "stdout",
     "output_type": "stream",
     "text": [
      "97\n"
     ]
    },
    {
     "name": "stderr",
     "output_type": "stream",
     "text": [
      " 49%|████▉     | 98/200 [10:52<09:08,  5.38s/it]"
     ]
    },
    {
     "name": "stdout",
     "output_type": "stream",
     "text": [
      "98\n"
     ]
    },
    {
     "name": "stderr",
     "output_type": "stream",
     "text": [
      " 50%|████▉     | 99/200 [10:57<08:53,  5.28s/it]"
     ]
    },
    {
     "name": "stdout",
     "output_type": "stream",
     "text": [
      "99\n",
      "\n",
      "🧪 Evaluando tras 100 episodios:\n",
      "Partida:  0\n",
      "Partida:  1\n",
      "Partida:  2\n",
      "Partida:  3\n",
      "Partida:  4\n",
      "Partida:  5\n",
      "Partida:  6\n",
      "Partida:  7\n",
      "Partida:  8\n",
      "Partida:  9\n"
     ]
    },
    {
     "name": "stderr",
     "output_type": "stream",
     "text": [
      " 50%|█████     | 100/200 [12:20<47:56, 28.76s/it]"
     ]
    },
    {
     "name": "stdout",
     "output_type": "stream",
     "text": [
      "Victorias TD: 1/10\n",
      "Empates:      0/10\n",
      "Derrotas:     9/10\n",
      "100\n"
     ]
    },
    {
     "name": "stderr",
     "output_type": "stream",
     "text": [
      " 50%|█████     | 101/200 [12:30<37:57, 23.01s/it]"
     ]
    },
    {
     "name": "stdout",
     "output_type": "stream",
     "text": [
      "101\n"
     ]
    },
    {
     "name": "stderr",
     "output_type": "stream",
     "text": [
      " 51%|█████     | 102/200 [12:37<29:55, 18.32s/it]"
     ]
    },
    {
     "name": "stdout",
     "output_type": "stream",
     "text": [
      "102\n"
     ]
    },
    {
     "name": "stderr",
     "output_type": "stream",
     "text": [
      " 52%|█████▏    | 103/200 [12:43<23:36, 14.60s/it]"
     ]
    },
    {
     "name": "stdout",
     "output_type": "stream",
     "text": [
      "103\n"
     ]
    },
    {
     "name": "stderr",
     "output_type": "stream",
     "text": [
      " 52%|█████▏    | 104/200 [12:53<21:08, 13.21s/it]"
     ]
    },
    {
     "name": "stdout",
     "output_type": "stream",
     "text": [
      "104\n"
     ]
    },
    {
     "name": "stderr",
     "output_type": "stream",
     "text": [
      " 52%|█████▎    | 105/200 [13:02<18:38, 11.78s/it]"
     ]
    },
    {
     "name": "stdout",
     "output_type": "stream",
     "text": [
      "105\n"
     ]
    },
    {
     "name": "stderr",
     "output_type": "stream",
     "text": [
      " 53%|█████▎    | 106/200 [13:09<16:28, 10.51s/it]"
     ]
    },
    {
     "name": "stdout",
     "output_type": "stream",
     "text": [
      "106\n"
     ]
    },
    {
     "name": "stderr",
     "output_type": "stream",
     "text": [
      " 54%|█████▎    | 107/200 [13:14<13:26,  8.67s/it]"
     ]
    },
    {
     "name": "stdout",
     "output_type": "stream",
     "text": [
      "107\n"
     ]
    },
    {
     "name": "stderr",
     "output_type": "stream",
     "text": [
      " 54%|█████▍    | 108/200 [13:19<11:47,  7.69s/it]"
     ]
    },
    {
     "name": "stdout",
     "output_type": "stream",
     "text": [
      "108\n"
     ]
    },
    {
     "name": "stderr",
     "output_type": "stream",
     "text": [
      " 55%|█████▍    | 109/200 [13:23<09:51,  6.49s/it]"
     ]
    },
    {
     "name": "stdout",
     "output_type": "stream",
     "text": [
      "109\n"
     ]
    },
    {
     "name": "stderr",
     "output_type": "stream",
     "text": [
      " 55%|█████▌    | 110/200 [13:26<08:23,  5.60s/it]"
     ]
    },
    {
     "name": "stdout",
     "output_type": "stream",
     "text": [
      "110\n"
     ]
    },
    {
     "name": "stderr",
     "output_type": "stream",
     "text": [
      " 56%|█████▌    | 111/200 [13:28<06:50,  4.61s/it]"
     ]
    },
    {
     "name": "stdout",
     "output_type": "stream",
     "text": [
      "111\n"
     ]
    },
    {
     "name": "stderr",
     "output_type": "stream",
     "text": [
      " 56%|█████▌    | 112/200 [13:34<07:11,  4.90s/it]"
     ]
    },
    {
     "name": "stdout",
     "output_type": "stream",
     "text": [
      "112\n"
     ]
    },
    {
     "name": "stderr",
     "output_type": "stream",
     "text": [
      " 56%|█████▋    | 113/200 [13:36<05:43,  3.95s/it]"
     ]
    },
    {
     "name": "stdout",
     "output_type": "stream",
     "text": [
      "113\n"
     ]
    },
    {
     "name": "stderr",
     "output_type": "stream",
     "text": [
      " 57%|█████▋    | 114/200 [13:38<05:06,  3.57s/it]"
     ]
    },
    {
     "name": "stdout",
     "output_type": "stream",
     "text": [
      "114\n"
     ]
    },
    {
     "name": "stderr",
     "output_type": "stream",
     "text": [
      " 57%|█████▊    | 115/200 [13:42<04:53,  3.46s/it]"
     ]
    },
    {
     "name": "stdout",
     "output_type": "stream",
     "text": [
      "115\n"
     ]
    },
    {
     "name": "stderr",
     "output_type": "stream",
     "text": [
      " 58%|█████▊    | 116/200 [13:46<05:01,  3.59s/it]"
     ]
    },
    {
     "name": "stdout",
     "output_type": "stream",
     "text": [
      "116\n"
     ]
    },
    {
     "name": "stderr",
     "output_type": "stream",
     "text": [
      " 58%|█████▊    | 117/200 [13:51<05:43,  4.14s/it]"
     ]
    },
    {
     "name": "stdout",
     "output_type": "stream",
     "text": [
      "117\n"
     ]
    },
    {
     "name": "stderr",
     "output_type": "stream",
     "text": [
      " 59%|█████▉    | 118/200 [13:53<04:41,  3.43s/it]"
     ]
    },
    {
     "name": "stdout",
     "output_type": "stream",
     "text": [
      "118\n"
     ]
    },
    {
     "name": "stderr",
     "output_type": "stream",
     "text": [
      " 60%|█████▉    | 119/200 [13:56<04:30,  3.34s/it]"
     ]
    },
    {
     "name": "stdout",
     "output_type": "stream",
     "text": [
      "119\n",
      "\n",
      "🧪 Evaluando tras 120 episodios:\n",
      "Partida:  0\n",
      "Partida:  1\n",
      "Partida:  2\n",
      "Partida:  3\n",
      "Partida:  4\n",
      "Partida:  5\n",
      "Partida:  6\n",
      "Partida:  7\n",
      "Partida:  8\n",
      "Partida:  9\n"
     ]
    },
    {
     "name": "stderr",
     "output_type": "stream",
     "text": [
      " 60%|██████    | 120/200 [14:41<20:58, 15.74s/it]"
     ]
    },
    {
     "name": "stdout",
     "output_type": "stream",
     "text": [
      "Victorias TD: 0/10\n",
      "Empates:      0/10\n",
      "Derrotas:     10/10\n",
      "120\n"
     ]
    },
    {
     "name": "stderr",
     "output_type": "stream",
     "text": [
      " 60%|██████    | 121/200 [14:46<16:39, 12.66s/it]"
     ]
    },
    {
     "name": "stdout",
     "output_type": "stream",
     "text": [
      "121\n"
     ]
    },
    {
     "name": "stderr",
     "output_type": "stream",
     "text": [
      " 61%|██████    | 122/200 [14:51<13:30, 10.39s/it]"
     ]
    },
    {
     "name": "stdout",
     "output_type": "stream",
     "text": [
      "122\n"
     ]
    },
    {
     "name": "stderr",
     "output_type": "stream",
     "text": [
      " 62%|██████▏   | 123/200 [14:57<11:29,  8.96s/it]"
     ]
    },
    {
     "name": "stdout",
     "output_type": "stream",
     "text": [
      "123\n"
     ]
    },
    {
     "name": "stderr",
     "output_type": "stream",
     "text": [
      " 62%|██████▏   | 124/200 [15:03<10:30,  8.29s/it]"
     ]
    },
    {
     "name": "stdout",
     "output_type": "stream",
     "text": [
      "124\n"
     ]
    },
    {
     "name": "stderr",
     "output_type": "stream",
     "text": [
      " 62%|██████▎   | 125/200 [15:11<09:55,  7.94s/it]"
     ]
    },
    {
     "name": "stdout",
     "output_type": "stream",
     "text": [
      "125\n"
     ]
    },
    {
     "name": "stderr",
     "output_type": "stream",
     "text": [
      " 63%|██████▎   | 126/200 [15:14<08:18,  6.73s/it]"
     ]
    },
    {
     "name": "stdout",
     "output_type": "stream",
     "text": [
      "126\n"
     ]
    },
    {
     "name": "stderr",
     "output_type": "stream",
     "text": [
      " 64%|██████▎   | 127/200 [15:24<09:05,  7.47s/it]"
     ]
    },
    {
     "name": "stdout",
     "output_type": "stream",
     "text": [
      "127\n"
     ]
    },
    {
     "name": "stderr",
     "output_type": "stream",
     "text": [
      " 64%|██████▍   | 128/200 [15:27<07:22,  6.15s/it]"
     ]
    },
    {
     "name": "stdout",
     "output_type": "stream",
     "text": [
      "128\n"
     ]
    },
    {
     "name": "stderr",
     "output_type": "stream",
     "text": [
      " 64%|██████▍   | 129/200 [15:36<08:22,  7.08s/it]"
     ]
    },
    {
     "name": "stdout",
     "output_type": "stream",
     "text": [
      "129\n"
     ]
    },
    {
     "name": "stderr",
     "output_type": "stream",
     "text": [
      " 65%|██████▌   | 130/200 [15:44<08:42,  7.46s/it]"
     ]
    },
    {
     "name": "stdout",
     "output_type": "stream",
     "text": [
      "130\n"
     ]
    },
    {
     "name": "stderr",
     "output_type": "stream",
     "text": [
      " 66%|██████▌   | 131/200 [15:49<07:45,  6.74s/it]"
     ]
    },
    {
     "name": "stdout",
     "output_type": "stream",
     "text": [
      "131\n"
     ]
    },
    {
     "name": "stderr",
     "output_type": "stream",
     "text": [
      " 66%|██████▌   | 132/200 [15:56<07:31,  6.64s/it]"
     ]
    },
    {
     "name": "stdout",
     "output_type": "stream",
     "text": [
      "132\n"
     ]
    },
    {
     "name": "stderr",
     "output_type": "stream",
     "text": [
      " 66%|██████▋   | 133/200 [16:05<08:09,  7.31s/it]"
     ]
    },
    {
     "name": "stdout",
     "output_type": "stream",
     "text": [
      "133\n"
     ]
    },
    {
     "name": "stderr",
     "output_type": "stream",
     "text": [
      " 67%|██████▋   | 134/200 [16:14<08:34,  7.79s/it]"
     ]
    },
    {
     "name": "stdout",
     "output_type": "stream",
     "text": [
      "134\n"
     ]
    },
    {
     "name": "stderr",
     "output_type": "stream",
     "text": [
      " 68%|██████▊   | 135/200 [16:20<07:53,  7.29s/it]"
     ]
    },
    {
     "name": "stdout",
     "output_type": "stream",
     "text": [
      "135\n"
     ]
    },
    {
     "name": "stderr",
     "output_type": "stream",
     "text": [
      " 68%|██████▊   | 136/200 [16:24<06:52,  6.45s/it]"
     ]
    },
    {
     "name": "stdout",
     "output_type": "stream",
     "text": [
      "136\n"
     ]
    },
    {
     "name": "stderr",
     "output_type": "stream",
     "text": [
      " 68%|██████▊   | 137/200 [16:33<07:27,  7.10s/it]"
     ]
    },
    {
     "name": "stdout",
     "output_type": "stream",
     "text": [
      "137\n"
     ]
    },
    {
     "name": "stderr",
     "output_type": "stream",
     "text": [
      " 69%|██████▉   | 138/200 [16:38<06:52,  6.65s/it]"
     ]
    },
    {
     "name": "stdout",
     "output_type": "stream",
     "text": [
      "138\n"
     ]
    },
    {
     "name": "stderr",
     "output_type": "stream",
     "text": [
      " 70%|██████▉   | 139/200 [16:43<06:00,  5.91s/it]"
     ]
    },
    {
     "name": "stdout",
     "output_type": "stream",
     "text": [
      "139\n",
      "\n",
      "🧪 Evaluando tras 140 episodios:\n",
      "Partida:  0\n",
      "Partida:  1\n",
      "Partida:  2\n",
      "Partida:  3\n",
      "Partida:  4\n",
      "Partida:  5\n",
      "Partida:  6\n",
      "Partida:  7\n",
      "Partida:  8\n",
      "Partida:  9\n"
     ]
    },
    {
     "name": "stderr",
     "output_type": "stream",
     "text": [
      " 70%|███████   | 140/200 [18:02<27:54, 27.91s/it]"
     ]
    },
    {
     "name": "stdout",
     "output_type": "stream",
     "text": [
      "Victorias TD: 1/10\n",
      "Empates:      0/10\n",
      "Derrotas:     9/10\n",
      "140\n"
     ]
    },
    {
     "name": "stderr",
     "output_type": "stream",
     "text": [
      " 70%|███████   | 141/200 [18:05<20:04, 20.42s/it]"
     ]
    },
    {
     "name": "stdout",
     "output_type": "stream",
     "text": [
      "141\n"
     ]
    },
    {
     "name": "stderr",
     "output_type": "stream",
     "text": [
      " 71%|███████   | 142/200 [18:12<16:02, 16.60s/it]"
     ]
    },
    {
     "name": "stdout",
     "output_type": "stream",
     "text": [
      "142\n"
     ]
    },
    {
     "name": "stderr",
     "output_type": "stream",
     "text": [
      " 72%|███████▏  | 143/200 [18:20<13:12, 13.90s/it]"
     ]
    },
    {
     "name": "stdout",
     "output_type": "stream",
     "text": [
      "143\n"
     ]
    },
    {
     "name": "stderr",
     "output_type": "stream",
     "text": [
      " 72%|███████▏  | 144/200 [18:27<11:09, 11.95s/it]"
     ]
    },
    {
     "name": "stdout",
     "output_type": "stream",
     "text": [
      "144\n"
     ]
    },
    {
     "name": "stderr",
     "output_type": "stream",
     "text": [
      " 72%|███████▎  | 145/200 [18:33<09:18, 10.16s/it]"
     ]
    },
    {
     "name": "stdout",
     "output_type": "stream",
     "text": [
      "145\n"
     ]
    },
    {
     "name": "stderr",
     "output_type": "stream",
     "text": [
      " 73%|███████▎  | 146/200 [18:41<08:31,  9.47s/it]"
     ]
    },
    {
     "name": "stdout",
     "output_type": "stream",
     "text": [
      "146\n"
     ]
    },
    {
     "name": "stderr",
     "output_type": "stream",
     "text": [
      " 74%|███████▎  | 147/200 [18:50<08:04,  9.15s/it]"
     ]
    },
    {
     "name": "stdout",
     "output_type": "stream",
     "text": [
      "147\n"
     ]
    },
    {
     "name": "stderr",
     "output_type": "stream",
     "text": [
      " 74%|███████▍  | 148/200 [19:00<08:07,  9.38s/it]"
     ]
    },
    {
     "name": "stdout",
     "output_type": "stream",
     "text": [
      "148\n"
     ]
    },
    {
     "name": "stderr",
     "output_type": "stream",
     "text": [
      " 74%|███████▍  | 149/200 [19:08<07:44,  9.10s/it]"
     ]
    },
    {
     "name": "stdout",
     "output_type": "stream",
     "text": [
      "149\n"
     ]
    },
    {
     "name": "stderr",
     "output_type": "stream",
     "text": [
      " 75%|███████▌  | 150/200 [19:15<07:00,  8.40s/it]"
     ]
    },
    {
     "name": "stdout",
     "output_type": "stream",
     "text": [
      "150\n"
     ]
    },
    {
     "name": "stderr",
     "output_type": "stream",
     "text": [
      " 76%|███████▌  | 151/200 [19:22<06:31,  7.99s/it]"
     ]
    },
    {
     "name": "stdout",
     "output_type": "stream",
     "text": [
      "151\n"
     ]
    },
    {
     "name": "stderr",
     "output_type": "stream",
     "text": [
      " 76%|███████▌  | 152/200 [19:28<05:59,  7.49s/it]"
     ]
    },
    {
     "name": "stdout",
     "output_type": "stream",
     "text": [
      "152\n"
     ]
    },
    {
     "name": "stderr",
     "output_type": "stream",
     "text": [
      " 76%|███████▋  | 153/200 [19:34<05:22,  6.86s/it]"
     ]
    },
    {
     "name": "stdout",
     "output_type": "stream",
     "text": [
      "153\n"
     ]
    },
    {
     "name": "stderr",
     "output_type": "stream",
     "text": [
      " 77%|███████▋  | 154/200 [19:39<04:58,  6.48s/it]"
     ]
    },
    {
     "name": "stdout",
     "output_type": "stream",
     "text": [
      "154\n"
     ]
    },
    {
     "name": "stderr",
     "output_type": "stream",
     "text": [
      " 78%|███████▊  | 155/200 [19:49<05:37,  7.50s/it]"
     ]
    },
    {
     "name": "stdout",
     "output_type": "stream",
     "text": [
      "155\n"
     ]
    },
    {
     "name": "stderr",
     "output_type": "stream",
     "text": [
      " 78%|███████▊  | 156/200 [19:56<05:22,  7.32s/it]"
     ]
    },
    {
     "name": "stdout",
     "output_type": "stream",
     "text": [
      "156\n"
     ]
    },
    {
     "name": "stderr",
     "output_type": "stream",
     "text": [
      " 78%|███████▊  | 157/200 [20:03<05:04,  7.09s/it]"
     ]
    },
    {
     "name": "stdout",
     "output_type": "stream",
     "text": [
      "157\n"
     ]
    },
    {
     "name": "stderr",
     "output_type": "stream",
     "text": [
      " 79%|███████▉  | 158/200 [20:10<05:00,  7.15s/it]"
     ]
    },
    {
     "name": "stdout",
     "output_type": "stream",
     "text": [
      "158\n"
     ]
    },
    {
     "name": "stderr",
     "output_type": "stream",
     "text": [
      " 80%|███████▉  | 159/200 [20:18<05:02,  7.38s/it]"
     ]
    },
    {
     "name": "stdout",
     "output_type": "stream",
     "text": [
      "159\n",
      "\n",
      "🧪 Evaluando tras 160 episodios:\n",
      "Partida:  0\n",
      "Partida:  1\n",
      "Partida:  2\n",
      "Partida:  3\n",
      "Partida:  4\n",
      "Partida:  5\n",
      "Partida:  6\n",
      "Partida:  7\n",
      "Partida:  8\n",
      "Partida:  9\n"
     ]
    },
    {
     "name": "stderr",
     "output_type": "stream",
     "text": [
      " 80%|████████  | 160/200 [21:18<15:33, 23.34s/it]"
     ]
    },
    {
     "name": "stdout",
     "output_type": "stream",
     "text": [
      "Victorias TD: 1/10\n",
      "Empates:      0/10\n",
      "Derrotas:     9/10\n",
      "160\n"
     ]
    },
    {
     "name": "stderr",
     "output_type": "stream",
     "text": [
      " 80%|████████  | 161/200 [21:22<11:17, 17.38s/it]"
     ]
    },
    {
     "name": "stdout",
     "output_type": "stream",
     "text": [
      "161\n"
     ]
    },
    {
     "name": "stderr",
     "output_type": "stream",
     "text": [
      " 81%|████████  | 162/200 [21:32<09:41, 15.31s/it]"
     ]
    },
    {
     "name": "stdout",
     "output_type": "stream",
     "text": [
      "162\n"
     ]
    },
    {
     "name": "stderr",
     "output_type": "stream",
     "text": [
      " 82%|████████▏ | 163/200 [21:38<07:44, 12.55s/it]"
     ]
    },
    {
     "name": "stdout",
     "output_type": "stream",
     "text": [
      "163\n"
     ]
    },
    {
     "name": "stderr",
     "output_type": "stream",
     "text": [
      " 82%|████████▏ | 164/200 [21:46<06:37, 11.04s/it]"
     ]
    },
    {
     "name": "stdout",
     "output_type": "stream",
     "text": [
      "164\n"
     ]
    },
    {
     "name": "stderr",
     "output_type": "stream",
     "text": [
      " 82%|████████▎ | 165/200 [21:50<05:11,  8.91s/it]"
     ]
    },
    {
     "name": "stdout",
     "output_type": "stream",
     "text": [
      "165\n"
     ]
    },
    {
     "name": "stderr",
     "output_type": "stream",
     "text": [
      " 83%|████████▎ | 166/200 [21:55<04:28,  7.90s/it]"
     ]
    },
    {
     "name": "stdout",
     "output_type": "stream",
     "text": [
      "166\n"
     ]
    },
    {
     "name": "stderr",
     "output_type": "stream",
     "text": [
      " 84%|████████▎ | 167/200 [22:06<04:52,  8.86s/it]"
     ]
    },
    {
     "name": "stdout",
     "output_type": "stream",
     "text": [
      "167\n"
     ]
    },
    {
     "name": "stderr",
     "output_type": "stream",
     "text": [
      " 84%|████████▍ | 168/200 [22:13<04:22,  8.21s/it]"
     ]
    },
    {
     "name": "stdout",
     "output_type": "stream",
     "text": [
      "168\n"
     ]
    },
    {
     "name": "stderr",
     "output_type": "stream",
     "text": [
      " 84%|████████▍ | 169/200 [22:21<04:15,  8.24s/it]"
     ]
    },
    {
     "name": "stdout",
     "output_type": "stream",
     "text": [
      "169\n"
     ]
    },
    {
     "name": "stderr",
     "output_type": "stream",
     "text": [
      " 85%|████████▌ | 170/200 [22:28<03:48,  7.60s/it]"
     ]
    },
    {
     "name": "stdout",
     "output_type": "stream",
     "text": [
      "170\n"
     ]
    },
    {
     "name": "stderr",
     "output_type": "stream",
     "text": [
      " 86%|████████▌ | 171/200 [22:32<03:08,  6.49s/it]"
     ]
    },
    {
     "name": "stdout",
     "output_type": "stream",
     "text": [
      "171\n"
     ]
    },
    {
     "name": "stderr",
     "output_type": "stream",
     "text": [
      " 86%|████████▌ | 172/200 [22:38<03:01,  6.46s/it]"
     ]
    },
    {
     "name": "stdout",
     "output_type": "stream",
     "text": [
      "172\n"
     ]
    },
    {
     "name": "stderr",
     "output_type": "stream",
     "text": [
      " 86%|████████▋ | 173/200 [22:44<02:51,  6.34s/it]"
     ]
    },
    {
     "name": "stdout",
     "output_type": "stream",
     "text": [
      "173\n"
     ]
    },
    {
     "name": "stderr",
     "output_type": "stream",
     "text": [
      " 87%|████████▋ | 174/200 [22:49<02:37,  6.05s/it]"
     ]
    },
    {
     "name": "stdout",
     "output_type": "stream",
     "text": [
      "174\n"
     ]
    },
    {
     "name": "stderr",
     "output_type": "stream",
     "text": [
      " 88%|████████▊ | 175/200 [22:56<02:38,  6.35s/it]"
     ]
    },
    {
     "name": "stdout",
     "output_type": "stream",
     "text": [
      "175\n"
     ]
    },
    {
     "name": "stderr",
     "output_type": "stream",
     "text": [
      " 88%|████████▊ | 176/200 [22:59<02:07,  5.32s/it]"
     ]
    },
    {
     "name": "stdout",
     "output_type": "stream",
     "text": [
      "176\n"
     ]
    },
    {
     "name": "stderr",
     "output_type": "stream",
     "text": [
      " 88%|████████▊ | 177/200 [23:06<02:09,  5.63s/it]"
     ]
    },
    {
     "name": "stdout",
     "output_type": "stream",
     "text": [
      "177\n"
     ]
    },
    {
     "name": "stderr",
     "output_type": "stream",
     "text": [
      " 89%|████████▉ | 178/200 [23:11<01:59,  5.45s/it]"
     ]
    },
    {
     "name": "stdout",
     "output_type": "stream",
     "text": [
      "178\n"
     ]
    },
    {
     "name": "stderr",
     "output_type": "stream",
     "text": [
      " 90%|████████▉ | 179/200 [23:21<02:25,  6.93s/it]"
     ]
    },
    {
     "name": "stdout",
     "output_type": "stream",
     "text": [
      "179\n",
      "\n",
      "🧪 Evaluando tras 180 episodios:\n",
      "Partida:  0\n",
      "Partida:  1\n",
      "Partida:  2\n",
      "Partida:  3\n",
      "Partida:  4\n",
      "Partida:  5\n",
      "Partida:  6\n",
      "Partida:  7\n",
      "Partida:  8\n",
      "Partida:  9\n"
     ]
    },
    {
     "name": "stderr",
     "output_type": "stream",
     "text": [
      " 90%|█████████ | 180/200 [24:32<08:42, 26.11s/it]"
     ]
    },
    {
     "name": "stdout",
     "output_type": "stream",
     "text": [
      "Victorias TD: 2/10\n",
      "Empates:      0/10\n",
      "Derrotas:     8/10\n",
      "180\n"
     ]
    },
    {
     "name": "stderr",
     "output_type": "stream",
     "text": [
      " 90%|█████████ | 181/200 [24:38<06:21, 20.09s/it]"
     ]
    },
    {
     "name": "stdout",
     "output_type": "stream",
     "text": [
      "181\n"
     ]
    },
    {
     "name": "stderr",
     "output_type": "stream",
     "text": [
      " 91%|█████████ | 182/200 [24:45<04:51, 16.19s/it]"
     ]
    },
    {
     "name": "stdout",
     "output_type": "stream",
     "text": [
      "182\n"
     ]
    },
    {
     "name": "stderr",
     "output_type": "stream",
     "text": [
      " 92%|█████████▏| 183/200 [24:52<03:48, 13.47s/it]"
     ]
    },
    {
     "name": "stdout",
     "output_type": "stream",
     "text": [
      "183\n"
     ]
    },
    {
     "name": "stderr",
     "output_type": "stream",
     "text": [
      " 92%|█████████▏| 184/200 [24:57<02:52, 10.80s/it]"
     ]
    },
    {
     "name": "stdout",
     "output_type": "stream",
     "text": [
      "184\n"
     ]
    },
    {
     "name": "stderr",
     "output_type": "stream",
     "text": [
      " 92%|█████████▎| 185/200 [25:05<02:29,  9.98s/it]"
     ]
    },
    {
     "name": "stdout",
     "output_type": "stream",
     "text": [
      "185\n"
     ]
    },
    {
     "name": "stderr",
     "output_type": "stream",
     "text": [
      " 93%|█████████▎| 186/200 [25:12<02:09,  9.22s/it]"
     ]
    },
    {
     "name": "stdout",
     "output_type": "stream",
     "text": [
      "186\n"
     ]
    },
    {
     "name": "stderr",
     "output_type": "stream",
     "text": [
      " 94%|█████████▎| 187/200 [25:19<01:50,  8.51s/it]"
     ]
    },
    {
     "name": "stdout",
     "output_type": "stream",
     "text": [
      "187\n"
     ]
    },
    {
     "name": "stderr",
     "output_type": "stream",
     "text": [
      " 94%|█████████▍| 188/200 [25:22<01:21,  6.79s/it]"
     ]
    },
    {
     "name": "stdout",
     "output_type": "stream",
     "text": [
      "188\n"
     ]
    },
    {
     "name": "stderr",
     "output_type": "stream",
     "text": [
      " 94%|█████████▍| 189/200 [25:28<01:11,  6.46s/it]"
     ]
    },
    {
     "name": "stdout",
     "output_type": "stream",
     "text": [
      "189\n"
     ]
    },
    {
     "name": "stderr",
     "output_type": "stream",
     "text": [
      " 95%|█████████▌| 190/200 [25:35<01:06,  6.61s/it]"
     ]
    },
    {
     "name": "stdout",
     "output_type": "stream",
     "text": [
      "190\n"
     ]
    },
    {
     "name": "stderr",
     "output_type": "stream",
     "text": [
      " 96%|█████████▌| 191/200 [25:42<01:00,  6.76s/it]"
     ]
    },
    {
     "name": "stdout",
     "output_type": "stream",
     "text": [
      "191\n"
     ]
    },
    {
     "name": "stderr",
     "output_type": "stream",
     "text": [
      " 96%|█████████▌| 192/200 [25:49<00:55,  6.88s/it]"
     ]
    },
    {
     "name": "stdout",
     "output_type": "stream",
     "text": [
      "192\n"
     ]
    },
    {
     "name": "stderr",
     "output_type": "stream",
     "text": [
      " 96%|█████████▋| 193/200 [25:56<00:48,  6.98s/it]"
     ]
    },
    {
     "name": "stdout",
     "output_type": "stream",
     "text": [
      "193\n"
     ]
    },
    {
     "name": "stderr",
     "output_type": "stream",
     "text": [
      " 97%|█████████▋| 194/200 [26:03<00:41,  6.86s/it]"
     ]
    },
    {
     "name": "stdout",
     "output_type": "stream",
     "text": [
      "194\n"
     ]
    },
    {
     "name": "stderr",
     "output_type": "stream",
     "text": [
      " 98%|█████████▊| 195/200 [26:13<00:38,  7.79s/it]"
     ]
    },
    {
     "name": "stdout",
     "output_type": "stream",
     "text": [
      "195\n"
     ]
    },
    {
     "name": "stderr",
     "output_type": "stream",
     "text": [
      " 98%|█████████▊| 196/200 [26:20<00:30,  7.59s/it]"
     ]
    },
    {
     "name": "stdout",
     "output_type": "stream",
     "text": [
      "196\n"
     ]
    },
    {
     "name": "stderr",
     "output_type": "stream",
     "text": [
      " 98%|█████████▊| 197/200 [26:28<00:23,  7.82s/it]"
     ]
    },
    {
     "name": "stdout",
     "output_type": "stream",
     "text": [
      "197\n"
     ]
    },
    {
     "name": "stderr",
     "output_type": "stream",
     "text": [
      " 99%|█████████▉| 198/200 [26:33<00:13,  6.84s/it]"
     ]
    },
    {
     "name": "stdout",
     "output_type": "stream",
     "text": [
      "198\n"
     ]
    },
    {
     "name": "stderr",
     "output_type": "stream",
     "text": [
      "100%|█████████▉| 199/200 [26:40<00:07,  7.09s/it]"
     ]
    },
    {
     "name": "stdout",
     "output_type": "stream",
     "text": [
      "199\n",
      "\n",
      "🧪 Evaluando tras 200 episodios:\n",
      "Partida:  0\n",
      "Partida:  1\n",
      "Partida:  2\n",
      "Partida:  3\n",
      "Partida:  4\n",
      "Partida:  5\n",
      "Partida:  6\n",
      "Partida:  7\n",
      "Partida:  8\n",
      "Partida:  9\n"
     ]
    },
    {
     "name": "stderr",
     "output_type": "stream",
     "text": [
      "100%|██████████| 200/200 [27:34<00:00,  8.27s/it]"
     ]
    },
    {
     "name": "stdout",
     "output_type": "stream",
     "text": [
      "Victorias TD: 0/10\n",
      "Empates:      0/10\n",
      "Derrotas:     10/10\n"
     ]
    },
    {
     "name": "stderr",
     "output_type": "stream",
     "text": [
      "\n"
     ]
    },
    {
     "name": "stdout",
     "output_type": "stream",
     "text": [
      "✅ Entrenamiento completado y Q-table guardada.\n"
     ]
    }
   ],
   "source": [
    "from tqdm import trange\n",
    "\n",
    "agente_td = AgenteTD(jugador=Conecta4.IA, alpha=0.2, gamma=0.95, epsilon=0.2)\n",
    "def entrenar_td_vs_minimax(episodios=10000, profundidad_minimax=3, evaluar_cada=20):\n",
    "    agente_minimax = AgenteIA(profundidad=profundidad_minimax)\n",
    "    oponente = Conecta4.JUGADOR\n",
    "\n",
    "    for episodio in trange(episodios):\n",
    "        print(episodio)\n",
    "        juego = Conecta4()\n",
    "        estado = agente_td.obtener_estado(juego.tablero)\n",
    "        turno = agente_td.jugador\n",
    "\n",
    "        while not juego.tablero_lleno():\n",
    "            if turno == agente_td.jugador:\n",
    "                accion = agente_td.elegir_accion(juego)\n",
    "                juego.realizar_movimiento(accion, agente_td.jugador)\n",
    "\n",
    "                if juego.verificar_victoria(agente_td.jugador):\n",
    "                    recompensa = 1\n",
    "                    nuevo_estado = agente_td.obtener_estado(juego.tablero)\n",
    "                    agente_td.actualizar(estado, accion, recompensa, nuevo_estado, [])\n",
    "                    break\n",
    "\n",
    "                nuevo_estado = agente_td.obtener_estado(juego.tablero)\n",
    "                acciones_siguientes = juego.obtener_movimientos_validos()\n",
    "                agente_td.actualizar(estado, accion, 0, nuevo_estado, acciones_siguientes)\n",
    "                estado = nuevo_estado\n",
    "                turno = oponente\n",
    "\n",
    "            else:\n",
    "                accion_oponente = agente_minimax.mejor_movimiento(juego)\n",
    "                juego.realizar_movimiento(accion_oponente, oponente)\n",
    "                if juego.verificar_victoria(oponente):\n",
    "                    recompensa = -1\n",
    "                    nuevo_estado = agente_td.obtener_estado(juego.tablero)\n",
    "                    agente_td.actualizar(estado, accion, recompensa, nuevo_estado, [])\n",
    "                    break\n",
    "                turno = agente_td.jugador\n",
    "\n",
    "        # Recompensa por empate\n",
    "        if juego.tablero_lleno() and not juego.verificar_victoria(agente_td.jugador) and not juego.verificar_victoria(oponente):\n",
    "            agente_td.actualizar(estado, accion, 0.5, agente_td.obtener_estado(juego.tablero), [])\n",
    "\n",
    "        # Evaluación periódica\n",
    "        if (episodio + 1) % evaluar_cada == 0:\n",
    "            print(f\"\\n🧪 Evaluando tras {episodio+1} episodios:\")\n",
    "            evaluar_agente_td(agente_td, agente_minimax)\n",
    "\n",
    "    agente_td.guardar(\"qtable_td_vs_minimax.pkl\")\n",
    "    print(\"✅ Entrenamiento completado y Q-table guardada.\")\n",
    "\n",
    "def evaluar_agente_td(agente_td, agente_minimax, partidas=10):\n",
    "    victorias_td = 0\n",
    "    empates = 0\n",
    "    derrotas = 0\n",
    "\n",
    "    agente_td.epsilon = 0  # sin exploración al evaluar\n",
    "\n",
    "    for i in range(partidas):\n",
    "        print(\"Partida: \",i)\n",
    "        juego = Conecta4()\n",
    "        turno = agente_td.jugador\n",
    "\n",
    "        while not juego.tablero_lleno():\n",
    "            if turno == agente_td.jugador:\n",
    "                accion = agente_td.elegir_accion(juego)\n",
    "                juego.realizar_movimiento(accion, agente_td.jugador)\n",
    "                if juego.verificar_victoria(agente_td.jugador):\n",
    "                    victorias_td += 1\n",
    "                    break\n",
    "                turno = Conecta4.JUGADOR\n",
    "            else:\n",
    "                accion_oponente = agente_minimax.mejor_movimiento(juego)\n",
    "                juego.realizar_movimiento(accion_oponente, Conecta4.JUGADOR)\n",
    "                if juego.verificar_victoria(Conecta4.JUGADOR):\n",
    "                    derrotas += 1\n",
    "                    break\n",
    "                turno = agente_td.jugador\n",
    "\n",
    "        if juego.tablero_lleno() and not juego.verificar_victoria(agente_td.jugador) and not juego.verificar_victoria(Conecta4.JUGADOR):\n",
    "            empates += 1\n",
    "\n",
    "    print(f\"Victorias TD: {victorias_td}/{partidas}\")\n",
    "    print(f\"Empates:      {empates}/{partidas}\")\n",
    "    print(f\"Derrotas:     {derrotas}/{partidas}\")\n",
    "\n",
    "entrenar_td_vs_minimax(episodios=200, profundidad_minimax=3)"
   ]
  },
  {
   "cell_type": "code",
   "execution_count": 8,
   "metadata": {},
   "outputs": [],
   "source": [
    "def jugar_partida(agente1, agente2, mostrar=False):\n",
    "    juego = Conecta4()\n",
    "    jugador_actual = Conecta4.JUGADOR  # Agente 1\n",
    "\n",
    "    while not juego.tablero_lleno():\n",
    "        if mostrar:\n",
    "            juego.imprimir_tablero()\n",
    "\n",
    "        if jugador_actual == Conecta4.JUGADOR:\n",
    "            columna = agente1.mejor_movimiento(juego) if hasattr(agente1, 'mejor_movimiento') else agente1.elegir_accion(juego)\n",
    "            juego.realizar_movimiento(columna, Conecta4.JUGADOR)\n",
    "            if juego.verificar_victoria(Conecta4.JUGADOR):\n",
    "                return 1  # Gana agente1\n",
    "            jugador_actual = Conecta4.IA\n",
    "        else:\n",
    "            columna = agente2.mejor_movimiento(juego) if hasattr(agente2, 'mejor_movimiento') else agente2.elegir_accion(juego)\n",
    "            juego.realizar_movimiento(columna, Conecta4.IA)\n",
    "            if juego.verificar_victoria(Conecta4.IA):\n",
    "                return 2  # Gana agente2\n",
    "            jugador_actual = Conecta4.JUGADOR\n",
    "\n",
    "    return 0 \n"
   ]
  },
  {
   "cell_type": "code",
   "execution_count": 9,
   "metadata": {},
   "outputs": [],
   "source": [
    "def simular_enfrentamientos(agente1, agente2, n=50):\n",
    "    resultados = {1: 0, 2: 0, 0: 0}  # {agente1, agente2, empate}\n",
    "    for i in range(n):\n",
    "        resultado = jugar_partida(agente1, agente2)\n",
    "        resultados[resultado] += 1\n",
    "        print(f\"Partida {i + 1}: {resultado}\")\n",
    "    return resultados "
   ]
  },
  {
   "cell_type": "code",
   "execution_count": 14,
   "metadata": {},
   "outputs": [
    {
     "name": "stdout",
     "output_type": "stream",
     "text": [
      "🎮 ¡Empieza el juego! Tú eres el jugador 1\n",
      "[[0 0 0 0 0 0 0]\n",
      " [0 0 0 0 0 0 0]\n",
      " [0 0 0 0 0 0 0]\n",
      " [0 0 0 0 0 0 0]\n",
      " [0 0 0 0 0 0 0]\n",
      " [0 0 0 0 0 0 0]]\n",
      "[[0 0 0 0 0 0 0]\n",
      " [0 0 0 0 0 0 0]\n",
      " [0 0 0 0 0 0 0]\n",
      " [0 0 0 0 0 0 0]\n",
      " [0 0 0 0 0 0 0]\n",
      " [0 1 0 0 0 0 0]]\n",
      "🤖 Turno del agente...\n",
      "[[0 0 0 0 0 0 0]\n",
      " [0 0 0 0 0 0 0]\n",
      " [0 0 0 0 0 0 0]\n",
      " [0 0 0 0 0 0 0]\n",
      " [0 0 0 0 0 0 0]\n",
      " [0 1 0 0 2 0 0]]\n",
      "[[0 0 0 0 0 0 0]\n",
      " [0 0 0 0 0 0 0]\n",
      " [0 0 0 0 0 0 0]\n",
      " [0 0 0 0 0 0 0]\n",
      " [0 1 0 0 0 0 0]\n",
      " [0 1 0 0 2 0 0]]\n",
      "🤖 Turno del agente...\n",
      "[[0 0 0 0 0 0 0]\n",
      " [0 0 0 0 0 0 0]\n",
      " [0 0 0 0 0 0 0]\n",
      " [0 0 0 0 0 0 0]\n",
      " [0 1 0 0 0 0 0]\n",
      " [0 1 0 0 2 2 0]]\n",
      "[[0 0 0 0 0 0 0]\n",
      " [0 0 0 0 0 0 0]\n",
      " [0 0 0 0 0 0 0]\n",
      " [0 1 0 0 0 0 0]\n",
      " [0 1 0 0 0 0 0]\n",
      " [0 1 0 0 2 2 0]]\n",
      "🤖 Turno del agente...\n",
      "[[0 0 0 0 0 0 0]\n",
      " [0 0 0 0 0 0 0]\n",
      " [0 0 0 0 0 0 0]\n",
      " [0 1 0 0 0 0 0]\n",
      " [0 1 0 0 2 0 0]\n",
      " [0 1 0 0 2 2 0]]\n",
      "[[0 0 0 0 0 0 0]\n",
      " [0 0 0 0 0 0 0]\n",
      " [0 1 0 0 0 0 0]\n",
      " [0 1 0 0 0 0 0]\n",
      " [0 1 0 0 2 0 0]\n",
      " [0 1 0 0 2 2 0]]\n",
      "🎉 ¡Has ganado!\n"
     ]
    }
   ],
   "source": [
    "def jugar_contra_td(agente_td, jugador_humano=1):\n",
    "    juego = Conecta4()\n",
    "    turno = jugador_humano  # Comienza el humano si es 1, de lo contrario inicia el agente\n",
    "\n",
    "    print(\"🎮 ¡Empieza el juego! Tú eres el jugador\", jugador_humano)\n",
    "    juego.imprimir_tablero()\n",
    "\n",
    "    while not juego.tablero_lleno():\n",
    "        if turno == jugador_humano:\n",
    "            try:\n",
    "                columna = int(input(\"Selecciona una columna (0-6): \"))\n",
    "                if columna < 0 or columna >= juego.COLUMNAS:\n",
    "                    print(\"❌ Columna inválida.\")\n",
    "                    continue\n",
    "                if not juego.realizar_movimiento(columna, jugador_humano):\n",
    "                    print(\"❌ Columna llena.\")\n",
    "                    continue\n",
    "            except ValueError:\n",
    "                print(\"⚠️ Ingresa un número válido.\")\n",
    "                continue\n",
    "\n",
    "            if juego.verificar_victoria(jugador_humano):\n",
    "                juego.imprimir_tablero()\n",
    "                print(\"🎉 ¡Has ganado!\")\n",
    "                return\n",
    "\n",
    "            turno = 3 - jugador_humano  # Cambia de turno\n",
    "        else:\n",
    "            print(\"🤖 Turno del agente...\")\n",
    "            columna = agente_td.elegir_accion(juego)\n",
    "            juego.realizar_movimiento(columna, agente_td.jugador)\n",
    "            if juego.verificar_victoria(agente_td.jugador):\n",
    "                juego.imprimir_tablero()\n",
    "                print(\"💻 El agente ha ganado.\")\n",
    "                return\n",
    "\n",
    "            turno = jugador_humano\n",
    "\n",
    "        juego.imprimir_tablero()\n",
    "\n",
    "    print(\"🤝 ¡Empate!\")\n",
    "\n",
    "\n",
    "jugar_contra_td(agente_td)\n"
   ]
  },
  {
   "cell_type": "code",
   "execution_count": null,
   "metadata": {},
   "outputs": [
    {
     "name": "stdout",
     "output_type": "stream",
     "text": [
      "Partida 1: 2\n",
      "Partida 2: 2\n",
      "Partida 3: 2\n",
      "Partida 4: 2\n",
      "Partida 5: 2\n",
      "Partida 6: 2\n",
      "Partida 7: 2\n",
      "Partida 8: 2\n",
      "Partida 9: 2\n",
      "Partida 10: 2\n",
      "Partida 11: 2\n",
      "Partida 12: 2\n",
      "Partida 13: 2\n",
      "Partida 14: 2\n",
      "Partida 15: 2\n",
      "Partida 16: 2\n",
      "Partida 17: 2\n",
      "Partida 18: 2\n",
      "Partida 19: 2\n",
      "Partida 20: 2\n",
      "Partida 21: 2\n",
      "Partida 22: 2\n",
      "Partida 23: 2\n",
      "Partida 24: 2\n"
     ]
    }
   ],
   "source": [
    "# Esto es IA vs IA (NO EJECUTAR)\n",
    "\n",
    "\n",
    "\n",
    "\n",
    "# agente_td = AgenteTD(jugador=Conecta4.JUGADOR)  # Entrenado antes\n",
    "agente_minimax = AgenteIA(profundidad=4, poda_alpha_beta=False)\n",
    "agente_minimax_ab = AgenteIA(profundidad=4, poda_alpha_beta=True)\n",
    "\n",
    "# TD vs Minimax\n",
    "res_td_vs_min = simular_enfrentamientos(agente_td, agente_minimax)\n",
    "\n",
    "# TD vs Minimax con poda\n",
    "res_td_vs_ab = simular_enfrentamientos(agente_td, agente_minimax_ab)\n",
    "\n",
    "# Minimax vs Minimax con poda\n",
    "res_min_vs_ab = simular_enfrentamientos(agente_minimax, agente_minimax_ab)\n"
   ]
  },
  {
   "cell_type": "code",
   "execution_count": 11,
   "metadata": {},
   "outputs": [
    {
     "data": {
      "image/png": "[encoded data removed]",
      "text/plain": [
       "<Figure size 640x480 with 1 Axes>"
      ]
     },
     "metadata": {},
     "output_type": "display_data"
    }
   ],
   "source": [
    "\n",
    "labels = ['Agente TD', 'Minimax', 'Minimax AB']\n",
    "victorias = [\n",
    "    res_td_vs_min[1],\n",
    "    res_td_vs_min[2],\n",
    "    0\n",
    "]\n",
    "\n",
    "victorias[0] += res_td_vs_ab[1]\n",
    "victorias[2] += res_td_vs_ab[2]\n",
    "# victorias[1] += res_min_vs_ab[1]\n",
    "# victorias[2] += res_min_vs_ab[2]\n",
    "\n",
    "plt.bar(labels, victorias)\n",
    "plt.title(\"Victorias de los Agentes en 150 partidas\")\n",
    "plt.ylabel(\"Cantidad de Victorias\")\n",
    "plt.savefig(\"resultados_agentes.png\")\n",
    "plt.show()\n"
   ]
  }
 ],
 "metadata": {
  "kernelspec": {
   "display_name": "venv",
   "language": "python",
   "name": "python3"
  },
  "language_info": {
   "codemirror_mode": {
    "name": "ipython",
    "version": 3
   },
   "file_extension": ".py",
   "mimetype": "text/x-python",
   "name": "python",
   "nbconvert_exporter": "python",
   "pygments_lexer": "ipython3",
   "version": "3.12.9"
  }
 },
 "nbformat": 4,
 "nbformat_minor": 2
}
